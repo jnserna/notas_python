{
 "cells": [
  {
   "cell_type": "markdown",
   "metadata": {},
   "source": [
    "# Titanic (Decision Trees)"
   ]
  },
  {
   "cell_type": "markdown",
   "metadata": {},
   "source": [
    "This is a training notebook with basic ideas of ML."
   ]
  },
  {
   "cell_type": "markdown",
   "metadata": {},
   "source": [
    "**Summary**\n",
    "\n",
    "* EDA\n",
    "* Improving data\n",
    "* Modelling"
   ]
  },
  {
   "cell_type": "code",
   "execution_count": 1,
   "metadata": {},
   "outputs": [],
   "source": [
    "import pandas as pd\n",
    "import numpy as np\n",
    "import seaborn as sns\n",
    "import matplotlib.pyplot as plt\n",
    "\n",
    "%matplotlib inline"
   ]
  },
  {
   "cell_type": "code",
   "execution_count": 2,
   "metadata": {},
   "outputs": [
    {
     "name": "stdout",
     "output_type": "stream",
     "text": [
      "<class 'pandas.core.frame.DataFrame'>\n",
      "RangeIndex: 891 entries, 0 to 890\n",
      "Data columns (total 12 columns):\n",
      " #   Column       Non-Null Count  Dtype  \n",
      "---  ------       --------------  -----  \n",
      " 0   PassengerId  891 non-null    int64  \n",
      " 1   Survived     891 non-null    int64  \n",
      " 2   Pclass       891 non-null    int64  \n",
      " 3   Name         891 non-null    object \n",
      " 4   Sex          891 non-null    object \n",
      " 5   Age          714 non-null    float64\n",
      " 6   SibSp        891 non-null    int64  \n",
      " 7   Parch        891 non-null    int64  \n",
      " 8   Ticket       891 non-null    object \n",
      " 9   Fare         891 non-null    float64\n",
      " 10  Cabin        204 non-null    object \n",
      " 11  Embarked     889 non-null    object \n",
      "dtypes: float64(2), int64(5), object(5)\n",
      "memory usage: 83.7+ KB\n",
      "None\n"
     ]
    }
   ],
   "source": [
    "# Load the dataset and create a DataFrame\n",
    "# Se lee el dataset original como DataFrame\n",
    "\n",
    "data_original = pd.read_csv(\"titanic2.csv\")\n",
    "\n",
    "# A look to the datatypes and null values\n",
    "# Se exploran los tipos de variables del dataset y los valores faltantes\n",
    "\n",
    "#data_original.describe()\n",
    "print(data_original.info())"
   ]
  },
  {
   "cell_type": "markdown",
   "metadata": {},
   "source": [
    "### Description of features included in the dataset"
   ]
  },
  {
   "cell_type": "markdown",
   "metadata": {},
   "source": [
    "* survival - Survival (0 = No; 1 = Yes)\n",
    "* class - Passenger Class (1 = 1st; 2 = 2nd; 3 = 3rd)\n",
    "* name - Name\n",
    "* sex - Sex\n",
    "* age - Age\n",
    "* sibsp - Number of Siblings/Spouses Aboard\n",
    "* parch - Number of Parents/Children Aboard\n",
    "* ticket - Ticket Number\n",
    "* fare - Passenger Fare\n",
    "* cabin - Cabin\n",
    "* embarked - Port of Embarkation (C = Cherbourg; Q = Queenstown; S = Southampton)\n",
    "* **(not provided)** boat - Lifeboat (if survived)\n",
    "* **(not provided)** body - Body number (if did not survive and body was recovered)"
   ]
  },
  {
   "cell_type": "markdown",
   "metadata": {},
   "source": [
    "## Data understanding"
   ]
  },
  {
   "cell_type": "code",
   "execution_count": 3,
   "metadata": {},
   "outputs": [
    {
     "data": {
      "text/html": [
       "<div>\n",
       "<style scoped>\n",
       "    .dataframe tbody tr th:only-of-type {\n",
       "        vertical-align: middle;\n",
       "    }\n",
       "\n",
       "    .dataframe tbody tr th {\n",
       "        vertical-align: top;\n",
       "    }\n",
       "\n",
       "    .dataframe thead th {\n",
       "        text-align: right;\n",
       "    }\n",
       "</style>\n",
       "<table border=\"1\" class=\"dataframe\">\n",
       "  <thead>\n",
       "    <tr style=\"text-align: right;\">\n",
       "      <th></th>\n",
       "      <th>PassengerId</th>\n",
       "      <th>Survived</th>\n",
       "      <th>Pclass</th>\n",
       "      <th>Name</th>\n",
       "      <th>Sex</th>\n",
       "      <th>Age</th>\n",
       "      <th>SibSp</th>\n",
       "      <th>Parch</th>\n",
       "      <th>Ticket</th>\n",
       "      <th>Fare</th>\n",
       "      <th>Cabin</th>\n",
       "      <th>Embarked</th>\n",
       "    </tr>\n",
       "  </thead>\n",
       "  <tbody>\n",
       "    <tr>\n",
       "      <th>0</th>\n",
       "      <td>1</td>\n",
       "      <td>0</td>\n",
       "      <td>3</td>\n",
       "      <td>Braund, Mr. Owen Harris</td>\n",
       "      <td>male</td>\n",
       "      <td>22.0</td>\n",
       "      <td>1</td>\n",
       "      <td>0</td>\n",
       "      <td>A/5 21171</td>\n",
       "      <td>7.2500</td>\n",
       "      <td>NaN</td>\n",
       "      <td>S</td>\n",
       "    </tr>\n",
       "    <tr>\n",
       "      <th>1</th>\n",
       "      <td>2</td>\n",
       "      <td>1</td>\n",
       "      <td>1</td>\n",
       "      <td>Cumings, Mrs. John Bradley (Florence Briggs Th...</td>\n",
       "      <td>female</td>\n",
       "      <td>38.0</td>\n",
       "      <td>1</td>\n",
       "      <td>0</td>\n",
       "      <td>PC 17599</td>\n",
       "      <td>71.2833</td>\n",
       "      <td>C85</td>\n",
       "      <td>C</td>\n",
       "    </tr>\n",
       "    <tr>\n",
       "      <th>2</th>\n",
       "      <td>3</td>\n",
       "      <td>1</td>\n",
       "      <td>3</td>\n",
       "      <td>Heikkinen, Miss. Laina</td>\n",
       "      <td>female</td>\n",
       "      <td>26.0</td>\n",
       "      <td>0</td>\n",
       "      <td>0</td>\n",
       "      <td>STON/O2. 3101282</td>\n",
       "      <td>7.9250</td>\n",
       "      <td>NaN</td>\n",
       "      <td>S</td>\n",
       "    </tr>\n",
       "    <tr>\n",
       "      <th>3</th>\n",
       "      <td>4</td>\n",
       "      <td>1</td>\n",
       "      <td>1</td>\n",
       "      <td>Futrelle, Mrs. Jacques Heath (Lily May Peel)</td>\n",
       "      <td>female</td>\n",
       "      <td>35.0</td>\n",
       "      <td>1</td>\n",
       "      <td>0</td>\n",
       "      <td>113803</td>\n",
       "      <td>53.1000</td>\n",
       "      <td>C123</td>\n",
       "      <td>S</td>\n",
       "    </tr>\n",
       "    <tr>\n",
       "      <th>4</th>\n",
       "      <td>5</td>\n",
       "      <td>0</td>\n",
       "      <td>3</td>\n",
       "      <td>Allen, Mr. William Henry</td>\n",
       "      <td>male</td>\n",
       "      <td>35.0</td>\n",
       "      <td>0</td>\n",
       "      <td>0</td>\n",
       "      <td>373450</td>\n",
       "      <td>8.0500</td>\n",
       "      <td>NaN</td>\n",
       "      <td>S</td>\n",
       "    </tr>\n",
       "  </tbody>\n",
       "</table>\n",
       "</div>"
      ],
      "text/plain": [
       "   PassengerId  Survived  Pclass  \\\n",
       "0            1         0       3   \n",
       "1            2         1       1   \n",
       "2            3         1       3   \n",
       "3            4         1       1   \n",
       "4            5         0       3   \n",
       "\n",
       "                                                Name     Sex   Age  SibSp  \\\n",
       "0                            Braund, Mr. Owen Harris    male  22.0      1   \n",
       "1  Cumings, Mrs. John Bradley (Florence Briggs Th...  female  38.0      1   \n",
       "2                             Heikkinen, Miss. Laina  female  26.0      0   \n",
       "3       Futrelle, Mrs. Jacques Heath (Lily May Peel)  female  35.0      1   \n",
       "4                           Allen, Mr. William Henry    male  35.0      0   \n",
       "\n",
       "   Parch            Ticket     Fare Cabin Embarked  \n",
       "0      0         A/5 21171   7.2500   NaN        S  \n",
       "1      0          PC 17599  71.2833   C85        C  \n",
       "2      0  STON/O2. 3101282   7.9250   NaN        S  \n",
       "3      0            113803  53.1000  C123        S  \n",
       "4      0            373450   8.0500   NaN        S  "
      ]
     },
     "execution_count": 3,
     "metadata": {},
     "output_type": "execute_result"
    }
   ],
   "source": [
    "# How the dataset looks like\n",
    "# Cómo se ve el dataset\n",
    "\n",
    "data_original.head()"
   ]
  },
  {
   "cell_type": "markdown",
   "metadata": {},
   "source": [
    "Before going with EDA, here's a way of transforming original data to less memory-consuming data."
   ]
  },
  {
   "cell_type": "code",
   "execution_count": 4,
   "metadata": {},
   "outputs": [
    {
     "name": "stdout",
     "output_type": "stream",
     "text": [
      "<class 'pandas.core.frame.DataFrame'>\n",
      "RangeIndex: 891 entries, 0 to 890\n",
      "Data columns (total 12 columns):\n",
      " #   Column       Non-Null Count  Dtype   \n",
      "---  ------       --------------  -----   \n",
      " 0   PassengerId  891 non-null    int16   \n",
      " 1   Survived     891 non-null    bool    \n",
      " 2   Pclass       891 non-null    category\n",
      " 3   Name         891 non-null    object  \n",
      " 4   Sex          891 non-null    category\n",
      " 5   Age          714 non-null    float32 \n",
      " 6   SibSp        891 non-null    int8    \n",
      " 7   Parch        891 non-null    int8    \n",
      " 8   Ticket       891 non-null    object  \n",
      " 9   Fare         891 non-null    float32 \n",
      " 10  Cabin        204 non-null    object  \n",
      " 11  Embarked     889 non-null    category\n",
      "dtypes: bool(1), category(3), float32(2), int16(1), int8(2), object(3)\n",
      "memory usage: 35.2+ KB\n",
      "None\n"
     ]
    }
   ],
   "source": [
    "# Setting up the new data types\n",
    "dtypes_col       = data_original.columns\n",
    "dtypes_type_old  = data_original.dtypes\n",
    "dtypes_type      = ['int16', 'bool','category','object','category','float32','int8','int8','object','float32','object','category']\n",
    "optimized_dtypes = dict(zip(dtypes_col, dtypes_type))\n",
    "\n",
    "# Reading the entire data, but now with optimized columns\n",
    "data = pd.read_csv(\"titanic2.csv\",dtype=optimized_dtypes)\n",
    "\n",
    "print(data.info())"
   ]
  },
  {
   "cell_type": "code",
   "execution_count": 5,
   "metadata": {},
   "outputs": [
    {
     "data": {
      "text/plain": [
       "PassengerId      0\n",
       "Survived         0\n",
       "Pclass           0\n",
       "Name             0\n",
       "Sex              0\n",
       "Age            177\n",
       "SibSp            0\n",
       "Parch            0\n",
       "Ticket           0\n",
       "Fare             0\n",
       "Cabin          687\n",
       "Embarked         2\n",
       "dtype: int64"
      ]
     },
     "execution_count": 5,
     "metadata": {},
     "output_type": "execute_result"
    }
   ],
   "source": [
    "# Specifically checking null values\n",
    "# Revisando valores faltantes\n",
    "\n",
    "data.isnull().sum()"
   ]
  },
  {
   "cell_type": "markdown",
   "metadata": {},
   "source": [
    "**Missing values** in Age, Cabin and Embarked.\n",
    "<br>Age and Embark missing values should be filled.\n",
    "<br>Cabin has a lot of missing values. Filling them might be biased. Then ignore Cabin.\n",
    "\n",
    "**Valores faltantes** en Age, Cabin y Embarked.\n",
    "<br>Los valores de Age y Embark se debería completar.\n",
    "<br>Cabin se descarta por la alta cantidad de valores faltantes."
   ]
  },
  {
   "cell_type": "markdown",
   "metadata": {},
   "source": [
    "## Filling missing data"
   ]
  },
  {
   "cell_type": "code",
   "execution_count": 6,
   "metadata": {},
   "outputs": [
    {
     "data": {
      "image/png": "[encoded data removed]",
      "text/plain": [
       "<Figure size 432x288 with 1 Axes>"
      ]
     },
     "metadata": {
      "needs_background": "light"
     },
     "output_type": "display_data"
    }
   ],
   "source": [
    "# Choice 1 (Easy): filling missing values with the Median of Age.\n",
    "# Alternativa 1 (Básica): completar los faltantes con la mediana de Edad.\n",
    "\n",
    "#data[\"Age\"].fillna(data[\"Age\"].median(), inplace = True)\n",
    "\n",
    "# Choice 2 (Better): filling missing values taking the probability distribution of Age.\n",
    "# Alternativa 2 (Más conveniente): completar los faltantes con valores tomados de la distribución de probabilidad de Age.\n",
    "\n",
    "fig, ax = plt.subplots()\n",
    "x = data[\"Age\"].dropna()\n",
    "hist, bins = np.histogram(x,bins=30)\n",
    "ax.hist(x, bins= 30,color = 'blue')\n",
    "ax.set_title('Histograma de Age')\n",
    "ax.set_xlabel('Edad (años)')\n",
    "ax.set_ylabel('Cantidad de datos / Passengers');"
   ]
  },
  {
   "cell_type": "code",
   "execution_count": 7,
   "metadata": {},
   "outputs": [],
   "source": [
    "from random import choices\n",
    "\n",
    "# Finding the probability of Age\n",
    "bincenters = 0.5*(bins[1:]+bins[:-1])\n",
    "probabilities = hist/hist.sum()\n",
    "\n",
    "# Creating random numbers from existing age distribution\n",
    "for item in data['Age']:\n",
    "    data[\"Age_rand\"] = data[\"Age\"].apply(lambda v: np.random.choice(bincenters, p=probabilities))\n",
    "    Age_null_list   = data[data[\"Age\"].isnull()].index\n",
    "\n",
    "    # Filling...   \n",
    "    data.loc[Age_null_list,\"Age\"] = data.loc[Age_null_list,\"Age_rand\"]\n",
    "    \n",
    "data = data.drop(columns = [\"Age_rand\"])"
   ]
  },
  {
   "cell_type": "code",
   "execution_count": 8,
   "metadata": {},
   "outputs": [
    {
     "data": {
      "text/plain": [
       "PassengerId      0\n",
       "Survived         0\n",
       "Pclass           0\n",
       "Name             0\n",
       "Sex              0\n",
       "Age              0\n",
       "SibSp            0\n",
       "Parch            0\n",
       "Ticket           0\n",
       "Fare             0\n",
       "Cabin          687\n",
       "Embarked         2\n",
       "dtype: int64"
      ]
     },
     "execution_count": 8,
     "metadata": {},
     "output_type": "execute_result"
    }
   ],
   "source": [
    "# Checking null values\n",
    "# Revisando valores faltantes\n",
    "data.isnull().sum()"
   ]
  },
  {
   "cell_type": "code",
   "execution_count": 9,
   "metadata": {},
   "outputs": [
    {
     "data": {
      "text/plain": [
       "PassengerId      0\n",
       "Survived         0\n",
       "Pclass           0\n",
       "Name             0\n",
       "Sex              0\n",
       "Age              0\n",
       "SibSp            0\n",
       "Parch            0\n",
       "Ticket           0\n",
       "Fare             0\n",
       "Cabin          687\n",
       "Embarked         0\n",
       "dtype: int64"
      ]
     },
     "execution_count": 9,
     "metadata": {},
     "output_type": "execute_result"
    }
   ],
   "source": [
    "# Embarked could be filled with most popular category (\"S\"). Just becuase there are only 2 values missing.\n",
    "\n",
    "# los 2 NaN de la columna Embarked se pueden reemplazar con S. Esto porque es la más popular y solo son 2 valores faltantes.\n",
    "\n",
    "data[\"Embarked\"] = data[\"Embarked\"].fillna(\"S\")\n",
    "data.isnull().sum()"
   ]
  },
  {
   "cell_type": "markdown",
   "metadata": {},
   "source": [
    "## Preparing for modelling"
   ]
  },
  {
   "cell_type": "code",
   "execution_count": 10,
   "metadata": {},
   "outputs": [
    {
     "name": "stdout",
     "output_type": "stream",
     "text": [
      "Valores originales en Sex:\n",
      "['male', 'female']\n",
      "Categories (2, object): ['male', 'female']\n",
      "New values for Sex:\n",
      "[1 0]\n"
     ]
    }
   ],
   "source": [
    "# Applying label encoding for category features (Sex, Embarked y Pclass) in order to be able of exploring correlations.\n",
    "\n",
    "# Se hace label encoding para las tres variables que están como category (Sex, Embarked y Pclass). Esto para poder ver correlaciones.\n",
    "\n",
    "# label encoding - variable sex\n",
    "print('Valores originales en Sex:')\n",
    "print(data[\"Sex\"].unique())\n",
    "\n",
    "from sklearn import preprocessing\n",
    "le = preprocessing.LabelEncoder()\n",
    "\n",
    "data[\"Sex\"]=le.fit_transform(data[\"Sex\"])\n",
    "print('New values for Sex:')\n",
    "print(data[\"Sex\"].unique())"
   ]
  },
  {
   "cell_type": "code",
   "execution_count": 11,
   "metadata": {},
   "outputs": [
    {
     "name": "stdout",
     "output_type": "stream",
     "text": [
      "Valores originales en Embarked:\n",
      "['S', 'C', 'Q']\n",
      "Categories (3, object): ['S', 'C', 'Q']\n",
      "New values for Embarked:\n",
      "[2 0 1]\n"
     ]
    }
   ],
   "source": [
    "# label encoding - variable Embarked\n",
    "\n",
    "print('Valores originales en Embarked:')\n",
    "print(data[\"Embarked\"].unique())\n",
    "\n",
    "from sklearn import preprocessing\n",
    "le = preprocessing.LabelEncoder()\n",
    "\n",
    "data[\"Embarked\"]=le.fit_transform(data[\"Embarked\"])\n",
    "print('New values for Embarked:')\n",
    "print(data[\"Embarked\"].unique())"
   ]
  },
  {
   "cell_type": "code",
   "execution_count": 12,
   "metadata": {},
   "outputs": [
    {
     "name": "stdout",
     "output_type": "stream",
     "text": [
      "Valores originales en Pclass:\n",
      "['3', '1', '2']\n",
      "Categories (3, object): ['3', '1', '2']\n",
      "New values for Pclass:\n",
      "[2 0 1]\n"
     ]
    }
   ],
   "source": [
    "# label encoding - variable Pclass\n",
    "\n",
    "print('Valores originales en Pclass:')\n",
    "print(data[\"Pclass\"].unique())\n",
    "\n",
    "from sklearn import preprocessing\n",
    "le = preprocessing.LabelEncoder()\n",
    "\n",
    "data[\"Pclass\"]=le.fit_transform(data[\"Pclass\"])\n",
    "print('New values for Pclass:')\n",
    "print(data[\"Pclass\"].unique())"
   ]
  },
  {
   "cell_type": "code",
   "execution_count": 13,
   "metadata": {},
   "outputs": [
    {
     "data": {
      "text/html": [
       "<div>\n",
       "<style scoped>\n",
       "    .dataframe tbody tr th:only-of-type {\n",
       "        vertical-align: middle;\n",
       "    }\n",
       "\n",
       "    .dataframe tbody tr th {\n",
       "        vertical-align: top;\n",
       "    }\n",
       "\n",
       "    .dataframe thead th {\n",
       "        text-align: right;\n",
       "    }\n",
       "</style>\n",
       "<table border=\"1\" class=\"dataframe\">\n",
       "  <thead>\n",
       "    <tr style=\"text-align: right;\">\n",
       "      <th></th>\n",
       "      <th>PassengerId</th>\n",
       "      <th>Survived</th>\n",
       "      <th>Pclass</th>\n",
       "      <th>Name</th>\n",
       "      <th>Sex</th>\n",
       "      <th>Age</th>\n",
       "      <th>SibSp</th>\n",
       "      <th>Parch</th>\n",
       "      <th>Ticket</th>\n",
       "      <th>Fare</th>\n",
       "      <th>Cabin</th>\n",
       "      <th>Embarked</th>\n",
       "    </tr>\n",
       "  </thead>\n",
       "  <tbody>\n",
       "    <tr>\n",
       "      <th>0</th>\n",
       "      <td>1</td>\n",
       "      <td>False</td>\n",
       "      <td>2</td>\n",
       "      <td>Braund, Mr. Owen Harris</td>\n",
       "      <td>1</td>\n",
       "      <td>22.0</td>\n",
       "      <td>1</td>\n",
       "      <td>0</td>\n",
       "      <td>A/5 21171</td>\n",
       "      <td>7.250000</td>\n",
       "      <td>NaN</td>\n",
       "      <td>2</td>\n",
       "    </tr>\n",
       "    <tr>\n",
       "      <th>1</th>\n",
       "      <td>2</td>\n",
       "      <td>True</td>\n",
       "      <td>0</td>\n",
       "      <td>Cumings, Mrs. John Bradley (Florence Briggs Th...</td>\n",
       "      <td>0</td>\n",
       "      <td>38.0</td>\n",
       "      <td>1</td>\n",
       "      <td>0</td>\n",
       "      <td>PC 17599</td>\n",
       "      <td>71.283302</td>\n",
       "      <td>C85</td>\n",
       "      <td>0</td>\n",
       "    </tr>\n",
       "    <tr>\n",
       "      <th>2</th>\n",
       "      <td>3</td>\n",
       "      <td>True</td>\n",
       "      <td>2</td>\n",
       "      <td>Heikkinen, Miss. Laina</td>\n",
       "      <td>0</td>\n",
       "      <td>26.0</td>\n",
       "      <td>0</td>\n",
       "      <td>0</td>\n",
       "      <td>STON/O2. 3101282</td>\n",
       "      <td>7.925000</td>\n",
       "      <td>NaN</td>\n",
       "      <td>2</td>\n",
       "    </tr>\n",
       "    <tr>\n",
       "      <th>3</th>\n",
       "      <td>4</td>\n",
       "      <td>True</td>\n",
       "      <td>0</td>\n",
       "      <td>Futrelle, Mrs. Jacques Heath (Lily May Peel)</td>\n",
       "      <td>0</td>\n",
       "      <td>35.0</td>\n",
       "      <td>1</td>\n",
       "      <td>0</td>\n",
       "      <td>113803</td>\n",
       "      <td>53.099998</td>\n",
       "      <td>C123</td>\n",
       "      <td>2</td>\n",
       "    </tr>\n",
       "    <tr>\n",
       "      <th>4</th>\n",
       "      <td>5</td>\n",
       "      <td>False</td>\n",
       "      <td>2</td>\n",
       "      <td>Allen, Mr. William Henry</td>\n",
       "      <td>1</td>\n",
       "      <td>35.0</td>\n",
       "      <td>0</td>\n",
       "      <td>0</td>\n",
       "      <td>373450</td>\n",
       "      <td>8.050000</td>\n",
       "      <td>NaN</td>\n",
       "      <td>2</td>\n",
       "    </tr>\n",
       "  </tbody>\n",
       "</table>\n",
       "</div>"
      ],
      "text/plain": [
       "   PassengerId  Survived  Pclass  \\\n",
       "0            1     False       2   \n",
       "1            2      True       0   \n",
       "2            3      True       2   \n",
       "3            4      True       0   \n",
       "4            5     False       2   \n",
       "\n",
       "                                                Name  Sex   Age  SibSp  Parch  \\\n",
       "0                            Braund, Mr. Owen Harris    1  22.0      1      0   \n",
       "1  Cumings, Mrs. John Bradley (Florence Briggs Th...    0  38.0      1      0   \n",
       "2                             Heikkinen, Miss. Laina    0  26.0      0      0   \n",
       "3       Futrelle, Mrs. Jacques Heath (Lily May Peel)    0  35.0      1      0   \n",
       "4                           Allen, Mr. William Henry    1  35.0      0      0   \n",
       "\n",
       "             Ticket       Fare Cabin  Embarked  \n",
       "0         A/5 21171   7.250000   NaN         2  \n",
       "1          PC 17599  71.283302   C85         0  \n",
       "2  STON/O2. 3101282   7.925000   NaN         2  \n",
       "3            113803  53.099998  C123         2  \n",
       "4            373450   8.050000   NaN         2  "
      ]
     },
     "execution_count": 13,
     "metadata": {},
     "output_type": "execute_result"
    }
   ],
   "source": [
    "data.head()"
   ]
  },
  {
   "cell_type": "code",
   "execution_count": 14,
   "metadata": {},
   "outputs": [
    {
     "data": {
      "image/png": "[encoded data removed]",
      "text/plain": [
       "<Figure size 576x576 with 2 Axes>"
      ]
     },
     "metadata": {
      "needs_background": "light"
     },
     "output_type": "display_data"
    }
   ],
   "source": [
    "# Cabin shouldn't be included in the Correlation Matrix due to the missing values.\n",
    "\n",
    "# No se debe usar el campo Cabin porque hay muchos datos faltantes.\n",
    "# El Passenger Id no creo que me sirva\n",
    "\n",
    "corr = data.drop(columns = ['Cabin','PassengerId']).corr()\n",
    "plt.figure(figsize=(8,8))\n",
    "sns.heatmap(corr,linewidths=0.1,vmax=1.0, square=True, cmap=\"BuPu\", linecolor='white', annot=True)\n",
    "plt.title('Pearson correlation of numeric features', y=1.05, size=15)\n",
    "plt.xticks(rotation = 45)\n",
    "plt.yticks(rotation = 45)\n",
    "plt.show()"
   ]
  },
  {
   "cell_type": "markdown",
   "metadata": {},
   "source": [
    "**Interesting correlations:**\n",
    "\n",
    "Sex (-0.54), Pclass (-0.34), Fare (0.26)"
   ]
  },
  {
   "cell_type": "code",
   "execution_count": 15,
   "metadata": {},
   "outputs": [
    {
     "data": {
      "text/plain": [
       "\"\\nfig, ax = plt.subplots()\\nplt.hist(data['Age'], bins=30, color='b')\\nax.set(xlabel='Edades (años)', ylabel='Cantidad de datos / Passengers')\\nax.set_title('Distribución de la edad de los pasajeros');\\n\\ndef formula(x):\\n    if x <= 12:\\n        return 1\\n    elif x > 12 and x <= 25:\\n        return 2\\n    elif x > 25 and x <= 45:\\n        return 3\\n    elif x > 45:\\n        return 4\\n\\ndata['age_group'] = data.apply(lambda row: formula(row['Age']), axis=1)\\n\\ndata['age_group'].value_counts()\\n\\n\""
      ]
     },
     "execution_count": 15,
     "metadata": {},
     "output_type": "execute_result"
    }
   ],
   "source": [
    "# Sometimes it's worth to create groups of values. For instance, groups of Ages:\n",
    "# A veces es útil crear agrupaciones de los valores de una variable. Por ejemplo Age:\n",
    "\n",
    "#1: 0 a 12años\n",
    "#2: 12 a 25\n",
    "#3: 25 a 45\n",
    "#4: >45\n",
    "\n",
    "'''\n",
    "fig, ax = plt.subplots()\n",
    "plt.hist(data['Age'], bins=30, color='b')\n",
    "ax.set(xlabel='Edades (años)', ylabel='Cantidad de datos / Passengers')\n",
    "ax.set_title('Distribución de la edad de los pasajeros');\n",
    "\n",
    "def formula(x):\n",
    "    if x <= 12:\n",
    "        return 1\n",
    "    elif x > 12 and x <= 25:\n",
    "        return 2\n",
    "    elif x > 25 and x <= 45:\n",
    "        return 3\n",
    "    elif x > 45:\n",
    "        return 4\n",
    "\n",
    "data['age_group'] = data.apply(lambda row: formula(row['Age']), axis=1)\n",
    "\n",
    "data['age_group'].value_counts()\n",
    "\n",
    "'''"
   ]
  },
  {
   "cell_type": "markdown",
   "metadata": {},
   "source": [
    "## Modelling"
   ]
  },
  {
   "cell_type": "markdown",
   "metadata": {},
   "source": [
    "### Model 1"
   ]
  },
  {
   "cell_type": "code",
   "execution_count": 16,
   "metadata": {},
   "outputs": [
    {
     "name": "stdout",
     "output_type": "stream",
     "text": [
      "Accuracy sobre conjunto de Train: 0.9871589085072231\n",
      "Accuracy sobre conjunto de Test: 0.7238805970149254\n"
     ]
    },
    {
     "name": "stderr",
     "output_type": "stream",
     "text": [
      "C:\\Users\\usuario\\anaconda3\\envs\\data science\\lib\\site-packages\\sklearn\\tree\\_classes.py:323: FutureWarning: The parameter 'presort' is deprecated and has no effect. It will be removed in v0.24. You can suppress this warning by not passing any value to the 'presort' parameter.\n",
      "  warnings.warn(\"The parameter 'presort' is deprecated and has no \"\n"
     ]
    }
   ],
   "source": [
    "# 1. Creating features and targets\n",
    "# 1. Definición de variables predictoras y variable a predecir\n",
    "\n",
    "X = data[['Age','SibSp','Parch','Fare','Pclass','Sex','Embarked']]\n",
    "y = data['Survived']\n",
    "\n",
    "# 2. Splitting dataset into training data and validation data \n",
    "# 2. Separación de los datos en datos para entrenamiento y datos para validación\n",
    "\n",
    "from sklearn.model_selection import train_test_split\n",
    "X_train, X_test, y_train, y_test = train_test_split(X, y, test_size=0.3, random_state=42)\n",
    "\n",
    "# 3. Creating instance of the model\n",
    "# 3. Instanciar el modelo\n",
    "\n",
    "from sklearn.tree import DecisionTreeClassifier\n",
    "\n",
    "tree = DecisionTreeClassifier(class_weight=None, criterion='gini', max_depth=None,\n",
    "                       max_features=None, max_leaf_nodes=None,\n",
    "                       min_impurity_decrease=0.0, min_impurity_split=None,\n",
    "                       min_samples_leaf=1, min_samples_split=2,\n",
    "                       min_weight_fraction_leaf=0.0, presort=False,\n",
    "                       random_state=None, splitter='best')\n",
    "\n",
    "# 4. Training the model\n",
    "# 4. Entrenar el modelo\n",
    "tree.fit(X_train, y_train)\n",
    "\n",
    "# 5. Predicting\n",
    "# 5. Predecir\n",
    "\n",
    "# Prediction using training data\n",
    "y_train_pred = tree.predict(X_train)\n",
    "\n",
    "# Predicción using validation data\n",
    "y_test_pred = tree.predict(X_test)\n",
    "\n",
    "# 6. Performance evaluation\n",
    "from sklearn.metrics import accuracy_score\n",
    "\n",
    "# Comparing with the real values\n",
    "print('Accuracy sobre conjunto de Train:', accuracy_score(y_train_pred,y_train))\n",
    "print('Accuracy sobre conjunto de Test:', accuracy_score(y_test_pred,y_test))"
   ]
  },
  {
   "cell_type": "code",
   "execution_count": 17,
   "metadata": {},
   "outputs": [],
   "source": [
    "# Overfitting: cuando el error de entrenamiento es mayor al del testeo. Overfitting es alta varianza.\n",
    "\n",
    "# El modelo solo tomará como válidos datos muy parecidos a los del conjunto de train.\n",
    "# El modelo no reconocerá datos como buenos si está un poco por fuera de los rangos ya establecidos."
   ]
  },
  {
   "cell_type": "code",
   "execution_count": 18,
   "metadata": {},
   "outputs": [
    {
     "data": {
      "text/plain": [
       "<sklearn.metrics._plot.confusion_matrix.ConfusionMatrixDisplay at 0x234fcc48be0>"
      ]
     },
     "execution_count": 18,
     "metadata": {},
     "output_type": "execute_result"
    },
    {
     "data": {
      "image/png": "[encoded data removed]",
      "text/plain": [
       "<Figure size 432x288 with 2 Axes>"
      ]
     },
     "metadata": {
      "needs_background": "light"
     },
     "output_type": "display_data"
    }
   ],
   "source": [
    "# Looking at the confusion matrix\n",
    "\n",
    "from sklearn.metrics import plot_confusion_matrix\n",
    "plot_confusion_matrix(tree, X, y, cmap=plt.cm.Blues, values_format = '.2f', normalize= 'true')"
   ]
  },
  {
   "cell_type": "code",
   "execution_count": 19,
   "metadata": {},
   "outputs": [
    {
     "name": "stderr",
     "output_type": "stream",
     "text": [
      "C:\\Users\\usuario\\anaconda3\\envs\\data science\\lib\\site-packages\\seaborn\\_decorators.py:36: FutureWarning: Pass the following variables as keyword args: x, y. From version 0.12, the only valid positional argument will be `data`, and passing other arguments without an explicit keyword will result in an error or misinterpretation.\n",
      "  warnings.warn(\n"
     ]
    },
    {
     "data": {
      "image/png": "[encoded data removed]",
      "text/plain": [
       "<Figure size 432x288 with 1 Axes>"
      ]
     },
     "metadata": {
      "needs_background": "light"
     },
     "output_type": "display_data"
    }
   ],
   "source": [
    "# Understanding feature importances\n",
    "\n",
    "importances = tree.feature_importances_\n",
    "columns = X.columns\n",
    "sns.barplot(columns, importances)\n",
    "plt.title('Importancia de cada Feature')\n",
    "plt.show()"
   ]
  },
  {
   "cell_type": "markdown",
   "metadata": {},
   "source": [
    "### Model 2"
   ]
  },
  {
   "cell_type": "code",
   "execution_count": 20,
   "metadata": {},
   "outputs": [
    {
     "name": "stdout",
     "output_type": "stream",
     "text": [
      "Accuracy sobre conjunto Train: 0.985553772070626\n",
      "Accuracy sobre conjunto Test: 0.7611940298507462\n"
     ]
    },
    {
     "name": "stderr",
     "output_type": "stream",
     "text": [
      "C:\\Users\\usuario\\anaconda3\\envs\\data science\\lib\\site-packages\\sklearn\\tree\\_classes.py:323: FutureWarning: The parameter 'presort' is deprecated and has no effect. It will be removed in v0.24. You can suppress this warning by not passing any value to the 'presort' parameter.\n",
      "  warnings.warn(\"The parameter 'presort' is deprecated and has no \"\n"
     ]
    }
   ],
   "source": [
    "# 1. Creating features and targets\n",
    "# 1. Definición de variables predictoras y variable a predecir\n",
    "\n",
    "X2 = data[['Sex','Fare','Age','Pclass']]\n",
    "y2 = data['Survived']\n",
    "\n",
    "# 2. Splitting dataset into training data and validation data \n",
    "# 2. Separación de los datos en datos para entrenamiento y datos para validación\n",
    "\n",
    "from sklearn.model_selection import train_test_split\n",
    "X2_train, X2_test, y2_train, y2_test = train_test_split(X2, y2, test_size=0.3, random_state=42)\n",
    "\n",
    "# 3. Creating instance of the model\n",
    "# 3. Instanciar el modelo\n",
    "\n",
    "tree2 = DecisionTreeClassifier(class_weight=None, criterion='gini', max_depth=None,\n",
    "                       max_features=None, max_leaf_nodes=None,\n",
    "                       min_impurity_decrease=0.0, min_impurity_split=None,\n",
    "                       min_samples_leaf=1, min_samples_split=2,\n",
    "                       min_weight_fraction_leaf=0.0, presort=False,\n",
    "                       random_state=None, splitter='best')\n",
    "\n",
    "# 4. Training the model\n",
    "# 4. Entrenar el modelo\n",
    "\n",
    "tree2.fit(X2_train, y2_train)\n",
    "\n",
    "\n",
    "# 5. Predicting\n",
    "# 5. Predecir\n",
    "\n",
    "# Prediction using training data\n",
    "y_train_pred2 = tree2.predict(X2_train)\n",
    "\n",
    "# Prediction using validation data\n",
    "y_test_pred2 = tree2.predict(X2_test)\n",
    "\n",
    "\n",
    "# 6. Performance evaluation\n",
    "from sklearn.metrics import accuracy_score\n",
    "\n",
    "# Comparing with the real values\n",
    "print('Accuracy sobre conjunto Train:', accuracy_score(y_train_pred2,y2_train))\n",
    "print('Accuracy sobre conjunto Test:', accuracy_score(y_test_pred2,y2_test))"
   ]
  },
  {
   "cell_type": "code",
   "execution_count": 21,
   "metadata": {},
   "outputs": [
    {
     "data": {
      "text/plain": [
       "<sklearn.metrics._plot.confusion_matrix.ConfusionMatrixDisplay at 0x234fd726130>"
      ]
     },
     "execution_count": 21,
     "metadata": {},
     "output_type": "execute_result"
    },
    {
     "data": {
      "image/png": "[encoded data removed]",
      "text/plain": [
       "<Figure size 432x288 with 2 Axes>"
      ]
     },
     "metadata": {
      "needs_background": "light"
     },
     "output_type": "display_data"
    }
   ],
   "source": [
    "# Looking at the confusion matrix\n",
    "\n",
    "from sklearn.metrics import plot_confusion_matrix\n",
    "plot_confusion_matrix(tree2, X2, y2, cmap=plt.cm.Blues, values_format = '.2f', normalize= 'true')"
   ]
  },
  {
   "cell_type": "markdown",
   "metadata": {},
   "source": [
    "### Model 3"
   ]
  },
  {
   "cell_type": "markdown",
   "metadata": {},
   "source": [
    "Model 2 has less features than model 1, and the performance is almost the same.\n",
    "\n",
    "Now it's worth trying to control overfitting using the least possible depth, but without significant reductions in performance."
   ]
  },
  {
   "cell_type": "code",
   "execution_count": 28,
   "metadata": {},
   "outputs": [
    {
     "data": {
      "image/png": "[encoded data removed]",
      "text/plain": [
       "<Figure size 432x288 with 1 Axes>"
      ]
     },
     "metadata": {
      "needs_background": "light"
     },
     "output_type": "display_data"
    }
   ],
   "source": [
    "# Validation curve (from Scikit Learn):\n",
    "\n",
    "# Defining a group of possible values for depth:\n",
    "n = np.arange(2,50,2)\n",
    "\n",
    "# Validation curve\n",
    "from sklearn.model_selection import validation_curve\n",
    "\n",
    "train_scores, test_scores = validation_curve(DecisionTreeClassifier(),\n",
    "                                           X,\n",
    "                                           y,\n",
    "                                           param_name='max_depth',\n",
    "                                           param_range=n,\n",
    "                                             cv=5)\n",
    "\n",
    "# Se revisan los parámetros de profundidad a evaluar:\n",
    "#np.mean(train_scores,axis=1).shape\n",
    "\n",
    "plt.plot(np.mean(train_scores,axis=1),color='darkblue',label='train_scores')\n",
    "plt.plot(np.mean(test_scores,axis=1),color='darkgoldenrod',label='test_scores')\n",
    "plt.xlabel('Profundidad del árbol')\n",
    "plt.ylabel('Score')\n",
    "plt.title('Curvas de validación - Decision Tree')\n",
    "plt.xticks(np.arange(24),n);\n",
    "plt.legend()\n",
    "plt.show()"
   ]
  },
  {
   "cell_type": "code",
   "execution_count": 32,
   "metadata": {},
   "outputs": [
    {
     "data": {
      "image/png": "[encoded data removed]",
      "text/plain": [
       "<Figure size 432x288 with 1 Axes>"
      ]
     },
     "metadata": {
      "needs_background": "light"
     },
     "output_type": "display_data"
    },
    {
     "name": "stdout",
     "output_type": "stream",
     "text": [
      "Pareciera que al modelo ya le falta poco por aprender.\n",
      "La curva naranja (validation score) debería ser una asíntota. Pareciera que su pendiente ya no es muy alta.\n"
     ]
    }
   ],
   "source": [
    "# Learning curve\n",
    "\n",
    "from sklearn.model_selection import learning_curve\n",
    "\n",
    "learning_curve(DecisionTreeClassifier(max_depth=16),X,y,cv=5)\n",
    "\n",
    "lc = learning_curve(DecisionTreeClassifier(max_depth=16),X,y,cv=5)\n",
    "samples, train, test = lc[0], lc[1], lc[2]\n",
    "\n",
    "plt.plot(samples,np.mean(train,axis=1),color='dodgerblue',label='train_scores')\n",
    "plt.plot(samples,np.mean(test,axis=1),color='orange',label='test_scores');\n",
    "plt.xlabel('Datos')\n",
    "plt.ylabel('Score')\n",
    "plt.title('Curvas de aprendizaje - Árbol de decisión')\n",
    "plt.legend()\n",
    "plt.show()\n",
    "\n",
    "print('Pareciera que al modelo ya le falta poco por aprender.')\n",
    "print('La curva naranja (validation score) debería ser una asíntota. Pareciera que su pendiente ya no es muy alta.')"
   ]
  },
  {
   "cell_type": "code",
   "execution_count": 34,
   "metadata": {},
   "outputs": [
    {
     "name": "stdout",
     "output_type": "stream",
     "text": [
      "DecTree optimizado (prof. 6)\n",
      "Accuracy = 0.87319422 en conjunto Train.\n",
      "Accuracy = 0.79477612 en conjunto Test.\n"
     ]
    }
   ],
   "source": [
    "# 1. Creating features and targets\n",
    "# 1. Definición de variables predictoras y variable a predecir\n",
    "\n",
    "X3 = data[['Sex','Fare','Age','Pclass']]\n",
    "y3 = data['Survived']\n",
    "\n",
    "# 2. Splitting dataset into training data and validation data \n",
    "# 2. Separación de los datos en datos para entrenamiento y datos para validación\n",
    "\n",
    "from sklearn.model_selection import train_test_split\n",
    "X3_train, X3_test, y3_train, y3_test = train_test_split(X3, y3, test_size=0.3, random_state=42)\n",
    "\n",
    "# 3. Creating instance of the model\n",
    "# 3. Instanciar el modelo\n",
    "\n",
    "from sklearn.tree import DecisionTreeClassifier\n",
    "profundidad = 6\n",
    "tree3 = DecisionTreeClassifier(max_depth=profundidad)\n",
    "\n",
    "# 4. Training the model\n",
    "# 4. Entrenar el modelo\n",
    "\n",
    "tree3.fit(X3_train, y3_train)\n",
    "\n",
    "# 5. Predicting\n",
    "tree3_pred = tree3.predict(X3_test)\n",
    "tree3_ajuste = tree3.predict(X3_train)\n",
    "\n",
    "# 6. Performance evaluation\n",
    "from sklearn.metrics import accuracy_score\n",
    "\n",
    "print('DecTree optimizado (prof. ' + str(profundidad) + ')')\n",
    "print('Accuracy = ' + str(round(accuracy_score(tree3_ajuste,y3_train),8)) + ' en conjunto Train.')\n",
    "print('Accuracy = ' + str(round(accuracy_score(tree3_pred,y3_test),8)) + ' en conjunto Test.')"
   ]
  }
 ],
 "metadata": {
  "kernelspec": {
   "display_name": "Python 3",
   "language": "python",
   "name": "python3"
  },
  "language_info": {
   "codemirror_mode": {
    "name": "ipython",
    "version": 3
   },
   "file_extension": ".py",
   "mimetype": "text/x-python",
   "name": "python",
   "nbconvert_exporter": "python",
   "pygments_lexer": "ipython3",
   "version": "3.8.5"
  }
 },
 "nbformat": 4,
 "nbformat_minor": 4
}
